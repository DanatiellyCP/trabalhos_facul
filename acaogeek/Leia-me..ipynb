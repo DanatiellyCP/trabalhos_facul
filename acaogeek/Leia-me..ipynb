# Dados do Projeto:
- Projeto para o segundo semestre de Engenharia da Computação;
- No qual o objetivo é a criação de um site para a divugação, de uma ação social;
- Tecnologias utilizadas:
	- HTML
	- JS
	- CSS
	- Bootstrap
	- Ajax