{
 "cells": [
  {
   "cell_type": "markdown",
   "id": "b00bbc69",
   "metadata": {},
   "source": [
    "# Dados do Projeto:\n",
    "- Projeto para o segundo semestre de Engenharia da Computação;\n",
    "- No qual o objetivo é a criação de um site para a divugação, de uma ação social;\n",
    "- Tecnologias utilizadas:\n",
    "\t- HTML\n",
    "\t- JS\n",
    "\t- CSS\n",
    "\t- Bootstrap\n",
    "\t- Ajax"
   ]
  }
 ],
 "metadata": {
  "language_info": {
   "name": "python"
  }
 },
 "nbformat": 4,
 "nbformat_minor": 5
}
