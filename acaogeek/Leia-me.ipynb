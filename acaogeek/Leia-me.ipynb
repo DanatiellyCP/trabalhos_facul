{
 "cells": [
  {
   "cell_type": "markdown",
   "id": "b00bbc69",
   "metadata": {},
   "source": [
    "# Dados do Projeto:\n",
    "- Projeto para o segundo semestre de Engenharia da Computação;\n",
    "- No qual o objetivo é a criação de um site para a divugação, de uma ação social;\n",
    "- Tecnologias utilizadas:\n",
    "\t- HTML\n",
    "\t- JS\n",
    "\t- CSS\n",
    "\t- Bootstrap\n",
    "\t- Ajax"
   ]
  },
  {
   "cell_type": "markdown",
   "id": "12670d0e",
   "metadata": {},
   "source": [
    "## O resultado do Site\n",
    "<img src=\"https://github.com/DanatiellyCP/trabalhos_facul/blob/main/acaogeek/images/OSite.png\">"
   ]
  }
 ],
 "metadata": {
  "language_info": {
   "name": "python"
  }
 },
 "nbformat": 4,
 "nbformat_minor": 5
}
